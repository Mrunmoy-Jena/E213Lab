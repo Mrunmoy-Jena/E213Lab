{
 "cells": [
  {
   "cell_type": "code",
   "execution_count": 35,
   "id": "975d2623-b5e1-4ab8-a8a1-210ac29f8eff",
   "metadata": {},
   "outputs": [
    {
     "data": {
      "text/plain": [
       "0.19057316936531615"
      ]
     },
     "metadata": {},
     "output_type": "display_data"
    }
   ],
   "source": [
    "import numpy as np\n",
    "import math\n",
    "GF=1.1663787E-5\n",
    "MZ=91.182\n",
    "TZ=2.4862\n",
    "Q=-1\n",
    "I=-0.5\n",
    "s=93.225**2\n",
    "stheta=math.sqrt(0.25)\n",
    "ctheta=math.sqrt(1-(stheta**2))\n",
    "gv=I-2*(Q*(stheta**2))\n",
    "vf=gv/(2*stheta*ctheta)\n",
    "ga=I\n",
    "af=ga/(2*stheta*ctheta)\n",
    "pre=((s-(MZ**2))**2)+((s*TZ/MZ)**2)\n",
    "Rechix=(s*(s-(MZ**2)))/pre\n",
    "modchisq=(s**2)/pre\n",
    "F1=(Q**2)-(2*(vf**2)*Q*Rechix)+((((vf**2)+(af**2))**2)*modchisq)\n",
    "F2=(-2*(af**2)*Q*Rechix)+(4*(vf**2)*(af**2)*modchisq)\n",
    "Nc=1.0\n",
    "AFB=(3/4)*(F2/F1)\n",
    "display(AFB)"
   ]
  },
  {
   "cell_type": "code",
   "execution_count": null,
   "id": "6d7c32a4-d05f-43c2-bb82-038fb35804a7",
   "metadata": {},
   "outputs": [],
   "source": []
  }
 ],
 "metadata": {
  "kernelspec": {
   "display_name": "Python 3 (ipykernel)",
   "language": "python",
   "name": "python3"
  },
  "language_info": {
   "codemirror_mode": {
    "name": "ipython",
    "version": 3
   },
   "file_extension": ".py",
   "mimetype": "text/x-python",
   "name": "python",
   "nbconvert_exporter": "python",
   "pygments_lexer": "ipython3",
   "version": "3.9.7"
  }
 },
 "nbformat": 4,
 "nbformat_minor": 5
}
